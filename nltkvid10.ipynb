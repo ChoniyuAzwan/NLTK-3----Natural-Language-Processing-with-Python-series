{
 "cells": [
  {
   "cell_type": "code",
   "execution_count": 1,
   "metadata": {},
   "outputs": [
    {
     "name": "stdout",
     "output_type": "stream",
     "text": [
      "[Synset('plan.n.01'), Synset('program.n.02'), Synset('broadcast.n.02'), Synset('platform.n.02'), Synset('program.n.05'), Synset('course_of_study.n.01'), Synset('program.n.07'), Synset('program.n.08'), Synset('program.v.01'), Synset('program.v.02')]\n"
     ]
    }
   ],
   "source": [
    "from nltk.corpus import wordnet\n",
    "syns = wordnet.synsets(\"program\")\n",
    "print(syns)"
   ]
  },
  {
   "cell_type": "code",
   "execution_count": 30,
   "metadata": {},
   "outputs": [
    {
     "name": "stdout",
     "output_type": "stream",
     "text": [
      "plan.n.01\n"
     ]
    }
   ],
   "source": [
    "#synset\n",
    "print(syns[0].name())"
   ]
  },
  {
   "cell_type": "code",
   "execution_count": 35,
   "metadata": {},
   "outputs": [
    {
     "name": "stdout",
     "output_type": "stream",
     "text": [
      "plan\n"
     ]
    }
   ],
   "source": [
    "# just the word\n",
    "print(syns[0].lemmas()[0].name())"
   ]
  },
  {
   "cell_type": "code",
   "execution_count": 10,
   "metadata": {},
   "outputs": [
    {
     "name": "stdout",
     "output_type": "stream",
     "text": [
      "a series of steps to be carried out or goals to be accomplished\n"
     ]
    }
   ],
   "source": [
    "# definition\n",
    "print(syns[0].definition())"
   ]
  },
  {
   "cell_type": "code",
   "execution_count": 12,
   "metadata": {},
   "outputs": [
    {
     "name": "stdout",
     "output_type": "stream",
     "text": [
      "['they drew up a six-step plan', 'they discussed plans for a new bond issue']\n"
     ]
    }
   ],
   "source": [
    "# examples\n",
    "print(syns[0].examples())"
   ]
  },
  {
   "cell_type": "code",
   "execution_count": 46,
   "metadata": {},
   "outputs": [
    {
     "name": "stdout",
     "output_type": "stream",
     "text": [
      "sinonym :  Synset('good.n.01')\n",
      "sinonym :  Synset('good.n.02')\n",
      "sinonym :  Synset('good.n.03')\n",
      "sinonym :  Synset('commodity.n.01')\n",
      "sinonym :  Synset('good.a.01')\n",
      "sinonym :  Synset('full.s.06')\n",
      "sinonym :  Synset('good.a.03')\n",
      "sinonym :  Synset('estimable.s.02')\n",
      "sinonym :  Synset('beneficial.s.01')\n",
      "sinonym :  Synset('good.s.06')\n",
      "sinonym :  Synset('good.s.07')\n",
      "sinonym :  Synset('adept.s.01')\n",
      "sinonym :  Synset('good.s.09')\n",
      "sinonym :  Synset('dear.s.02')\n",
      "sinonym :  Synset('dependable.s.04')\n",
      "sinonym :  Synset('good.s.12')\n",
      "sinonym :  Synset('good.s.13')\n",
      "sinonym :  Synset('effective.s.04')\n",
      "sinonym :  Synset('good.s.15')\n",
      "sinonym :  Synset('good.s.16')\n",
      "sinonym :  Synset('good.s.17')\n",
      "sinonym :  Synset('good.s.18')\n",
      "sinonym :  Synset('good.s.19')\n",
      "sinonym :  Synset('good.s.20')\n",
      "sinonym :  Synset('good.s.21')\n",
      "sinonym :  Synset('well.r.01')\n",
      "sinonym :  Synset('thoroughly.r.02')\n"
     ]
    }
   ],
   "source": [
    "for syn in wordnet.synsets(\"good\"):\n",
    "    print('sinonym : ', syn)"
   ]
  },
  {
   "cell_type": "code",
   "execution_count": 47,
   "metadata": {},
   "outputs": [
    {
     "name": "stdout",
     "output_type": "stream",
     "text": [
      "l :  Lemma('good.n.01.good')\n",
      "l :  Lemma('good.n.02.good')\n",
      "l :  Lemma('good.n.02.goodness')\n",
      "l :  Lemma('good.n.03.good')\n",
      "l :  Lemma('good.n.03.goodness')\n",
      "l :  Lemma('commodity.n.01.commodity')\n",
      "l :  Lemma('commodity.n.01.trade_good')\n",
      "l :  Lemma('commodity.n.01.good')\n",
      "l :  Lemma('good.a.01.good')\n",
      "l :  Lemma('full.s.06.full')\n",
      "l :  Lemma('full.s.06.good')\n",
      "l :  Lemma('good.a.03.good')\n",
      "l :  Lemma('estimable.s.02.estimable')\n",
      "l :  Lemma('estimable.s.02.good')\n",
      "l :  Lemma('estimable.s.02.honorable')\n",
      "l :  Lemma('estimable.s.02.respectable')\n",
      "l :  Lemma('beneficial.s.01.beneficial')\n",
      "l :  Lemma('beneficial.s.01.good')\n",
      "l :  Lemma('good.s.06.good')\n",
      "l :  Lemma('good.s.07.good')\n",
      "l :  Lemma('good.s.07.just')\n",
      "l :  Lemma('good.s.07.upright')\n",
      "l :  Lemma('adept.s.01.adept')\n",
      "l :  Lemma('adept.s.01.expert')\n",
      "l :  Lemma('adept.s.01.good')\n",
      "l :  Lemma('adept.s.01.practiced')\n",
      "l :  Lemma('adept.s.01.proficient')\n",
      "l :  Lemma('adept.s.01.skillful')\n",
      "l :  Lemma('adept.s.01.skilful')\n",
      "l :  Lemma('good.s.09.good')\n",
      "l :  Lemma('dear.s.02.dear')\n",
      "l :  Lemma('dear.s.02.good')\n",
      "l :  Lemma('dear.s.02.near')\n",
      "l :  Lemma('dependable.s.04.dependable')\n",
      "l :  Lemma('dependable.s.04.good')\n",
      "l :  Lemma('dependable.s.04.safe')\n",
      "l :  Lemma('dependable.s.04.secure')\n",
      "l :  Lemma('good.s.12.good')\n",
      "l :  Lemma('good.s.12.right')\n",
      "l :  Lemma('good.s.12.ripe')\n",
      "l :  Lemma('good.s.13.good')\n",
      "l :  Lemma('good.s.13.well')\n",
      "l :  Lemma('effective.s.04.effective')\n",
      "l :  Lemma('effective.s.04.good')\n",
      "l :  Lemma('effective.s.04.in_effect')\n",
      "l :  Lemma('effective.s.04.in_force')\n",
      "l :  Lemma('good.s.15.good')\n",
      "l :  Lemma('good.s.16.good')\n",
      "l :  Lemma('good.s.16.serious')\n",
      "l :  Lemma('good.s.17.good')\n",
      "l :  Lemma('good.s.17.sound')\n",
      "l :  Lemma('good.s.18.good')\n",
      "l :  Lemma('good.s.18.salutary')\n",
      "l :  Lemma('good.s.19.good')\n",
      "l :  Lemma('good.s.19.honest')\n",
      "l :  Lemma('good.s.20.good')\n",
      "l :  Lemma('good.s.20.undecomposed')\n",
      "l :  Lemma('good.s.20.unspoiled')\n",
      "l :  Lemma('good.s.20.unspoilt')\n",
      "l :  Lemma('good.s.21.good')\n",
      "l :  Lemma('well.r.01.well')\n",
      "l :  Lemma('well.r.01.good')\n",
      "l :  Lemma('thoroughly.r.02.thoroughly')\n",
      "l :  Lemma('thoroughly.r.02.soundly')\n",
      "l :  Lemma('thoroughly.r.02.good')\n"
     ]
    }
   ],
   "source": [
    "for syn in wordnet.synsets(\"good\"):\n",
    "    for l in syn.lemmas():\n",
    "        print('l : ', l)"
   ]
  },
  {
   "cell_type": "code",
   "execution_count": 71,
   "metadata": {},
   "outputs": [
    {
     "name": "stdout",
     "output_type": "stream",
     "text": [
      "Lemma('good.n.01.good') >< []\n",
      "Lemma('good.n.02.good') >< [Lemma('evil.n.03.evil')]\n",
      "Lemma('good.n.02.goodness') >< [Lemma('evil.n.03.evilness')]\n",
      "Lemma('good.n.03.good') >< [Lemma('bad.n.01.bad')]\n",
      "Lemma('good.n.03.goodness') >< [Lemma('bad.n.01.badness')]\n",
      "Lemma('commodity.n.01.commodity') >< []\n",
      "Lemma('commodity.n.01.trade_good') >< []\n",
      "Lemma('commodity.n.01.good') >< []\n",
      "Lemma('good.a.01.good') >< [Lemma('bad.a.01.bad')]\n",
      "Lemma('full.s.06.full') >< []\n",
      "Lemma('full.s.06.good') >< []\n",
      "Lemma('good.a.03.good') >< [Lemma('evil.a.01.evil')]\n",
      "Lemma('estimable.s.02.estimable') >< []\n",
      "Lemma('estimable.s.02.good') >< []\n",
      "Lemma('estimable.s.02.honorable') >< []\n",
      "Lemma('estimable.s.02.respectable') >< []\n",
      "Lemma('beneficial.s.01.beneficial') >< []\n",
      "Lemma('beneficial.s.01.good') >< []\n",
      "Lemma('good.s.06.good') >< []\n",
      "Lemma('good.s.07.good') >< []\n",
      "Lemma('good.s.07.just') >< []\n",
      "Lemma('good.s.07.upright') >< []\n",
      "Lemma('adept.s.01.adept') >< []\n",
      "Lemma('adept.s.01.expert') >< []\n",
      "Lemma('adept.s.01.good') >< []\n",
      "Lemma('adept.s.01.practiced') >< []\n",
      "Lemma('adept.s.01.proficient') >< []\n",
      "Lemma('adept.s.01.skillful') >< []\n",
      "Lemma('adept.s.01.skilful') >< []\n",
      "Lemma('good.s.09.good') >< []\n",
      "Lemma('dear.s.02.dear') >< []\n",
      "Lemma('dear.s.02.good') >< []\n",
      "Lemma('dear.s.02.near') >< []\n",
      "Lemma('dependable.s.04.dependable') >< []\n",
      "Lemma('dependable.s.04.good') >< []\n",
      "Lemma('dependable.s.04.safe') >< []\n",
      "Lemma('dependable.s.04.secure') >< []\n",
      "Lemma('good.s.12.good') >< []\n",
      "Lemma('good.s.12.right') >< []\n",
      "Lemma('good.s.12.ripe') >< []\n",
      "Lemma('good.s.13.good') >< []\n",
      "Lemma('good.s.13.well') >< []\n",
      "Lemma('effective.s.04.effective') >< []\n",
      "Lemma('effective.s.04.good') >< []\n",
      "Lemma('effective.s.04.in_effect') >< []\n",
      "Lemma('effective.s.04.in_force') >< []\n",
      "Lemma('good.s.15.good') >< []\n",
      "Lemma('good.s.16.good') >< []\n",
      "Lemma('good.s.16.serious') >< []\n",
      "Lemma('good.s.17.good') >< []\n",
      "Lemma('good.s.17.sound') >< []\n",
      "Lemma('good.s.18.good') >< []\n",
      "Lemma('good.s.18.salutary') >< []\n",
      "Lemma('good.s.19.good') >< []\n",
      "Lemma('good.s.19.honest') >< []\n",
      "Lemma('good.s.20.good') >< []\n",
      "Lemma('good.s.20.undecomposed') >< []\n",
      "Lemma('good.s.20.unspoiled') >< []\n",
      "Lemma('good.s.20.unspoilt') >< []\n",
      "Lemma('good.s.21.good') >< []\n",
      "Lemma('well.r.01.well') >< [Lemma('ill.r.01.ill')]\n",
      "Lemma('well.r.01.good') >< []\n",
      "Lemma('thoroughly.r.02.thoroughly') >< []\n",
      "Lemma('thoroughly.r.02.soundly') >< []\n",
      "Lemma('thoroughly.r.02.good') >< []\n"
     ]
    }
   ],
   "source": [
    "for syn in wordnet.synsets(\"good\"):\n",
    "    for l in syn.lemmas():\n",
    "        print(l, '><', l.antonyms())"
   ]
  },
  {
   "cell_type": "code",
   "execution_count": 73,
   "metadata": {},
   "outputs": [
    {
     "name": "stdout",
     "output_type": "stream",
     "text": [
      "{'dear', 'commodity', 'dependable', 'serious', 'trade_good', 'unspoiled', 'unspoilt', 'well', 'practiced', 'skilful', 'expert', 'just', 'salutary', 'upright', 'effective', 'estimable', 'near', 'honest', 'in_force', 'undecomposed', 'goodness', 'adept', 'proficient', 'secure', 'skillful', 'good', 'respectable', 'ripe', 'soundly', 'in_effect', 'full', 'beneficial', 'safe', 'right', 'honorable', 'thoroughly', 'sound'}\n",
      "{'bad', 'evil', 'evilness', 'ill', 'badness'}\n"
     ]
    }
   ],
   "source": [
    "synonyms = []\n",
    "antonyms = []\n",
    "\n",
    "for syn in wordnet.synsets(\"good\"):\n",
    "    for l in syn.lemmas():\n",
    "        synonyms.append(l.name())\n",
    "        if l.antonyms():\n",
    "            antonyms.append(l.antonyms()[0].name())\n",
    "\n",
    "print(set(synonyms))\n",
    "print(set(antonyms))\n"
   ]
  },
  {
   "cell_type": "code",
   "execution_count": 74,
   "metadata": {},
   "outputs": [
    {
     "name": "stdout",
     "output_type": "stream",
     "text": [
      "0.9090909090909091\n"
     ]
    }
   ],
   "source": [
    "w1 = wordnet.synset(\"ship.n.01\")\n",
    "w2 = wordnet.synset(\"boat.n.01\")\n",
    "print(w1.wup_similarity(w2))"
   ]
  },
  {
   "cell_type": "code",
   "execution_count": 75,
   "metadata": {},
   "outputs": [
    {
     "name": "stdout",
     "output_type": "stream",
     "text": [
      "0.6956521739130435\n"
     ]
    }
   ],
   "source": [
    "w1 = wordnet.synset(\"ship.n.01\")\n",
    "w2 = wordnet.synset(\"car.n.01\")\n",
    "print(w1.wup_similarity(w2))"
   ]
  },
  {
   "cell_type": "code",
   "execution_count": 76,
   "metadata": {},
   "outputs": [
    {
     "name": "stdout",
     "output_type": "stream",
     "text": [
      "0.38095238095238093\n"
     ]
    }
   ],
   "source": [
    "w1 = wordnet.synset(\"ship.n.01\")\n",
    "w2 = wordnet.synset(\"cactus.n.01\")\n",
    "print(w1.wup_similarity(w2))"
   ]
  },
  {
   "cell_type": "code",
   "execution_count": null,
   "metadata": {},
   "outputs": [],
   "source": []
  }
 ],
 "metadata": {
  "kernelspec": {
   "display_name": "Python 3",
   "language": "python",
   "name": "python3"
  },
  "language_info": {
   "codemirror_mode": {
    "name": "ipython",
    "version": 3
   },
   "file_extension": ".py",
   "mimetype": "text/x-python",
   "name": "python",
   "nbconvert_exporter": "python",
   "pygments_lexer": "ipython3",
   "version": "3.6.0"
  }
 },
 "nbformat": 4,
 "nbformat_minor": 2
}
