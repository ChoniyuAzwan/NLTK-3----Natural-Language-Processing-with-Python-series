{
 "cells": [
  {
   "cell_type": "code",
   "execution_count": 2,
   "metadata": {},
   "outputs": [
    {
     "name": "stdout",
     "output_type": "stream",
     "text": [
      "(['in', '1977', ',', 'something', 'never', 'though', 'possible', 'happened', '.', 'the', 'film', 'star', 'wars', 'was', 'released', ',', 'with', 'extraordinary', ',', 'never', 'seen', 'before', 'techniques', 'of', 'special', 'effects', '.', 'the', 'film', 'set', 'a', 'new', 'standard', 'for', 'special', 'effects', 'in', 'film', '.', 'not', 'only', 'did', 'it', 'set', 'a', 'standard', 'for', 'the', 'special', 'effects', ',', 'it', 'set', 'a', 'standard', 'for', 'film', 'itself', '.', 'the', 'plot', 'is', 'one', 'of', 'the', 'most', 'creative', 'i', 'heard', 'ever', '.', 'the', 'legend', 'of', 'star', 'wars', 'starts', 'long', 'ago', 'with', 'the', 'jedi', '.', 'the', 'jedi', 'were', 'warriors', 'who', 'were', 'wiped', 'out', 'by', 'the', 'dark', 'side', '.', 'darth', 'vader', 'is', 'the', 'leader', 'of', 'the', 'dark', 'side', '.', 'ben', 'obi', '-', 'wan', 'kenobi', ',', 'played', 'by', 'sir', 'alec', 'guinness', ',', 'was', 'one', 'of', 'those', 'jedi', 'who', 'is', 'still', 'alive', 'today', '.', 'darth', 'vader', 'was', 'once', 'a', 'jedi', ',', 'until', 'he', 'turned', 'to', 'the', 'dark', 'side', '.', 'years', 'after', 'the', 'killing', 'of', 'the', 'jedi', ',', 'darth', 'vader', 'is', 'still', 'around', 'causing', 'trouble', '.', 'r2', '-', 'd2', 'and', 'c', '-', '3p0', 'are', 'both', 'what', 'we', 'call', '\"', 'driods', '\"', ',', 'or', 'robots', 'that', 'are', 'of', 'assistance', 'to', 'humans', '.', 'while', 'an', 'attack', 'on', 'the', 'ship', 'that', 'princess', 'leia', ',', 'played', 'by', 'carrie', 'fisher', ',', 'is', 'aboard', ',', 'she', 'inserts', 'a', 'message', 'to', 'r2', '-', 'd2', ',', 'who', 'is', 'also', 'on', 'the', 'ship', '.', 'to', 'obi', '-', 'wan', 'kenobi', 'pleading', 'for', 'help', '.', 'the', 'princess', 'is', 'captured', 'by', 'vader', ',', 'but', 'r2', '-', 'd2', 'and', 'c', '-', '3p0', 'get', 'away', 'on', 'an', 'escape', 'pod', 'that', 'eventually', 'lands', 'them', 'on', 'the', 'remote', 'planet', 'of', 'tatooine', '.', 'the', 'jawas', ',', 'or', 'small', 'creatures', 'who', 'sell', 'droids', ',', 'pick', 'r2', '-', 'd2', 'and', 'c', '-', '3p0', 'up', 'to', 'sell', '.', 'they', 'are', 'bought', 'by', 'luke', 'skywalker', \"'\", 's', '(', 'mark', 'hamill', ')', 'family', '.', 'while', 'luke', 'is', 'cleaning', 'the', 'droids', ',', 'the', 'message', 'from', 'princess', 'leia', 'is', 'found', '.', 'luke', 'finds', 'this', 'obi', '-', 'wan', 'kenobi', ',', 'and', 'learns', 'that', 'obi', '-', 'wan', 'was', 'a', 'friend', 'of', 'luke', \"'\", 's', 'father', ',', 'who', 'is', 'now', 'dead', '.', 'luke', 'also', 'learns', 'his', 'family', 'was', 'a', 'jedi', '.', 'after', 'luke', \"'\", 's', 'family', 'is', 'killed', 'by', 'tropps', 'from', 'the', 'dark', 'side', ',', 'ben', 'decides', 'to', 'put', 'luke', 'through', 'training', 'to', 'stop', 'the', 'dark', 'side', 'and', 'destroy', 'them', 'once', 'and', 'for', 'all', '.', 'ben', 'wants', 'to', 'create', 'a', 'new', 'jedi', '.', 'first', ',', 'the', 'two', 'must', 'find', 'princess', 'leia', 'and', 'serve', 'her', '.', 'han', 'solo', ',', 'played', 'by', 'harrison', 'ford', ',', 'and', 'his', 'sidekick', 'chewbacca', ',', 'played', 'by', 'peter', 'mayhew', ',', 'are', 'consulted', 'about', 'providing', 'a', 'ship', 'to', 'complete', 'the', 'tasks', 'necessary', '.', 'after', 'meeting', 'up', 'with', 'leia', ',', 'the', 'film', 'really', 'picks', 'up', '.', 'luke', 'continues', 'his', 'training', 'as', 'a', 'pilot', 'and', 'to', 'become', 'a', 'jedi', ',', 'ben', 'kenobi', 'confronts', 'darth', 'vader', ',', 'and', 'many', 'other', 'interesting', 'events', 'occur', '.', 'star', 'wars', 'is', 'an', 'amazing', 'epic', '.', 'the', 'plot', 'is', 'so', 'original', 'and', 'amazing', ',', 'i', 'cannot', 'believe', 'it', '.', 'the', 'special', 'effects', ',', 'especially', 'for', 'its', 'time', ',', 'are', 'wonderful', 'and', 'realistic', '.', 'the', 'space', 'scenes', 'in', 'particular', 'are', 'the', 'most', 'fun', 'to', 'watch', '.', 'the', 'ships', 'flown', 'by', 'all', 'are', 'very', 'unique', 'and', 'creative', '.', 'the', 'costumes', 'are', 'also', 'out', 'of', 'this', 'world', '.', 'the', 'scenery', 'is', 'so', 'different', 'from', 'anything', 'i', 'have', 'ever', 'seen', 'before', '.', 'there', 'are', 'a', 'variety', 'of', 'different', 'very', 'memorable', 'set', 'pieces', 'that', 'will', 'stay', 'with', 'me', 'forever', '.', 'the', 'entire', 'premise', 'of', 'star', 'wars', 'is', 'amazing', '.', 'the', 'creatures', 'and', 'droids', 'that', 'we', 'see', 'throughout', 'the', 'film', 'are', 'one', 'of', 'a', 'kind', '.', 'even', 'the', 'human', 'characters', 'are', 'different', '.', 'every', 'character', 'is', 'extremely', 'likable', 'and', 'different', 'from', 'characters', 'from', 'other', 'sci', 'fi', 'films', '.', 'the', 'acting', 'on', 'everyone', \"'\", 's', 'part', 'is', 'great', ',', 'especially', 'that', 'of', 'sir', 'alec', 'guinness', \"'\", 's', '.', 'even', 'though', 'the', 'concept', 'is', 'not', 'realistic', 'at', 'all', ',', 'it', 'is', 'pulled', 'off', 'very', 'nicely', '.', 'the', 'acting', ',', 'setting', ',', 'effects', ',', 'costumes', ',', 'and', 'sound', 'make', 'it', 'work', '.', 'if', 'any', 'of', 'these', 'were', 'messed', 'up', ',', 'star', 'wars', 'would', 'have', 'come', 'off', 'as', 'one', 'huge', 'joke', '.', 'the', 'ending', 'works', 'very', 'well', ',', 'and', 'left', 'it', 'very', 'open', 'to', 'the', 'sequels', 'that', 'came', 'afterward', '.', 'in', 'early', '1997', ',', 'a', 'special', 'edition', 'of', 'star', 'wars', 'was', 'released', '.', 'the', 'film', 'was', 're', '-', 'mastered', 'so', 'it', 'looked', 'better', 'than', 'it', 'did', 'in', '1977', '.', 'a', 'few', 'creatures', 'were', 'added', 'here', 'and', 'there', ',', 'and', 'even', 'an', 'entire', 'deleted', 'scene', 'with', 'han', 'solo', 'and', 'jabba', 'the', 'hutt', '(', 'seen', 'in', 'return', 'of', 'the', 'jedi', ')', 'was', 'added', 'to', 'the', 'film', '.', 'think', 'that', \"'\", 's', 'enough', '?', 'on', 'may', '19', ',', '1999', ',', 'star', 'wars', 'episode', 'i', ':', 'the', 'phantom', 'menace', 'will', 'be', 'released', ',', 'followed', 'by', 'two', 'more', 'films', 'that', 'will', 'reveal', 'what', 'went', 'on', 'before', 'a', 'new', 'hope', '.', 'with', 'this', ',', 'star', 'wars', 'is', 'bound', 'to', 'become', 'the', 'greatest', 'tale', 'told', 'in', 'our', 'time', '.'], 'pos')\n"
     ]
    }
   ],
   "source": [
    "import nltk\n",
    "import random\n",
    "from nltk.corpus import movie_reviews\n",
    "\n",
    "# this code is same with below\n",
    "# documents = []\n",
    "# for category in movie_reviews.categories():\n",
    "#     for fileid in movie_reviews.fileids(categories):\n",
    "#         documents.append(list(movie_reviews.words(fileid)), category)\n",
    "\n",
    "documents = [(list(movie_reviews.words(fileid)), category)\n",
    "             for category in movie_reviews.categories()\n",
    "             for fileid in movie_reviews.fileids(category)]\n",
    "\n",
    "random.shuffle(documents)\n",
    "\n",
    "print(documents[1])"
   ]
  },
  {
   "cell_type": "code",
   "execution_count": 3,
   "metadata": {},
   "outputs": [
    {
     "name": "stdout",
     "output_type": "stream",
     "text": [
      "[(',', 77717), ('the', 76529), ('.', 65876), ('a', 38106), ('and', 35576), ('of', 34123), ('to', 31937), (\"'\", 30585), ('is', 25195), ('in', 21822), ('s', 18513), ('\"', 17612), ('it', 16107), ('that', 15924), ('-', 15595)]\n"
     ]
    }
   ],
   "source": [
    "all_words = []\n",
    "for w in movie_reviews.words():\n",
    "    all_words.append(w.lower())\n",
    "\n",
    "all_words = nltk.FreqDist(all_words)\n",
    "print(all_words.most_common(15))"
   ]
  },
  {
   "cell_type": "code",
   "execution_count": 4,
   "metadata": {},
   "outputs": [
    {
     "name": "stdout",
     "output_type": "stream",
     "text": [
      "253\n"
     ]
    }
   ],
   "source": [
    "print(all_words[\"stupid\"])"
   ]
  },
  {
   "cell_type": "code",
   "execution_count": 5,
   "metadata": {},
   "outputs": [
    {
     "name": "stdout",
     "output_type": "stream",
     "text": [
      "35576\n"
     ]
    }
   ],
   "source": [
    "print(all_words[\"and\"])"
   ]
  },
  {
   "cell_type": "code",
   "execution_count": null,
   "metadata": {},
   "outputs": [],
   "source": []
  }
 ],
 "metadata": {
  "kernelspec": {
   "display_name": "Python 3",
   "language": "python",
   "name": "python3"
  },
  "language_info": {
   "codemirror_mode": {
    "name": "ipython",
    "version": 3
   },
   "file_extension": ".py",
   "mimetype": "text/x-python",
   "name": "python",
   "nbconvert_exporter": "python",
   "pygments_lexer": "ipython3",
   "version": "3.6.0"
  }
 },
 "nbformat": 4,
 "nbformat_minor": 2
}
